{
 "cells": [
  {
   "cell_type": "markdown",
   "id": "b22dbd26",
   "metadata": {},
   "source": [
    "# program to demonstrate time efficiency of vectorization "
   ]
  },
  {
   "cell_type": "code",
   "execution_count": 1,
   "id": "260d437e",
   "metadata": {},
   "outputs": [],
   "source": [
    "import numpy as np"
   ]
  },
  {
   "cell_type": "code",
   "execution_count": 2,
   "id": "c07b88e5",
   "metadata": {},
   "outputs": [],
   "source": [
    "a=np.array([1,2,3,4])"
   ]
  },
  {
   "cell_type": "code",
   "execution_count": 3,
   "id": "9186f488",
   "metadata": {},
   "outputs": [
    {
     "name": "stdout",
     "output_type": "stream",
     "text": [
      "[1 2 3 4]\n"
     ]
    }
   ],
   "source": [
    "print(a)"
   ]
  },
  {
   "cell_type": "code",
   "execution_count": 11,
   "id": "f6da6b11",
   "metadata": {},
   "outputs": [
    {
     "name": "stdout",
     "output_type": "stream",
     "text": [
      "250031.90072022536\n",
      "vectorized version: 1.8761157989501953 ms\n",
      "250031.90072023022\n",
      "non-vectorized version (using for loop): 494.50016021728516 ms\n"
     ]
    }
   ],
   "source": [
    "import time\n",
    "\n",
    "a=np.random.rand(1000000)\n",
    "b=np.random.rand(1000000)\n",
    "\n",
    "tic=time.time()\n",
    "c=np.dot(a,b)\n",
    "toc=time.time()\n",
    "print(c)\n",
    "print(\"vectorized version: \"+str(1000*(toc-tic))+ \" ms\")\n",
    "\n",
    "c=0\n",
    "tic=time.time()\n",
    "for i in range(1000000):\n",
    "    c+=a[i]*b[i]\n",
    "toc=time.time()\n",
    "print(c)\n",
    "print(\"non-vectorized version (using for loop): \"+str(1000*(toc-tic))+ \" ms\")"
   ]
  },
  {
   "cell_type": "code",
   "execution_count": 9,
   "id": "0a2524dc",
   "metadata": {},
   "outputs": [],
   "source": [
    "#this example demostrates how you can decrease your time by almost 500 times after vectorising!\n",
    "#in dl agorithms- vectorization is a must because of insanely huge datasets we use"
   ]
  },
  {
   "cell_type": "code",
   "execution_count": 12,
   "id": "c4fb4708",
   "metadata": {},
   "outputs": [],
   "source": [
    "#using for loop also means parallelisation cannot be implemented in cpu/gpu which decreases the processing \n",
    "#efficiency hence increases time "
   ]
  },
  {
   "cell_type": "code",
   "execution_count": 13,
   "id": "8ace9f11",
   "metadata": {},
   "outputs": [],
   "source": [
    "#RULE OF THUMB - AVOID USING EXPLICIT FOR LOOP IF POSSIBLE- USE BUILT IN FUNCTIONS INSTEAD"
   ]
  },
  {
   "cell_type": "code",
   "execution_count": null,
   "id": "460fa5c6",
   "metadata": {},
   "outputs": [],
   "source": []
  }
 ],
 "metadata": {
  "kernelspec": {
   "display_name": "Python 3 (ipykernel)",
   "language": "python",
   "name": "python3"
  },
  "language_info": {
   "codemirror_mode": {
    "name": "ipython",
    "version": 3
   },
   "file_extension": ".py",
   "mimetype": "text/x-python",
   "name": "python",
   "nbconvert_exporter": "python",
   "pygments_lexer": "ipython3",
   "version": "3.10.1"
  }
 },
 "nbformat": 4,
 "nbformat_minor": 5
}
